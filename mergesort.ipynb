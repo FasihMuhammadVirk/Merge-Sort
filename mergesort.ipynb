{
  "nbformat": 4,
  "nbformat_minor": 0,
  "metadata": {
    "colab": {
      "name": "mergesort.ipynb",
      "provenance": [],
      "collapsed_sections": []
    },
    "kernelspec": {
      "name": "python3",
      "display_name": "Python 3"
    },
    "language_info": {
      "name": "python"
    }
  },
  "cells": [
    {
      "cell_type": "code",
      "execution_count": 6,
      "metadata": {
        "colab": {
          "base_uri": "https://localhost:8080/"
        },
        "id": "GbMm8EYSTwHU",
        "outputId": "7a6fd31e-e343-4f6a-fcd0-fbecfd06507d"
      },
      "outputs": [
        {
          "output_type": "stream",
          "name": "stdout",
          "text": [
            "Enter any Numbers (Seperated by Commas): 7,3,4,2,1,5,6\n",
            "Given array is\n",
            "7 3 4 2 1 5 6 \n",
            "\n",
            "Sorted array is: \n",
            "1 2 3 4 5 6 7 \n",
            "\n"
          ]
        }
      ],
      "source": [
        "def mergeSort(arr):\n",
        "  if len(arr) > 1:\n",
        "        \n",
        "    mid = len(arr)//2   \n",
        "    left = arr[:mid]\n",
        "    right = arr[mid:]\n",
        "     \n",
        "          \n",
        "    mergeSort(left)\n",
        "    mergeSort(right)\n",
        "    \n",
        "    i = j = k = 0\n",
        "    \n",
        "    # Copy data to temp arrays L[] and R[]\n",
        "    #Then replace the data of L[] and R[] in the Given Array arr[]\n",
        "    #if the let sub array L[] is less than right sub array R[]\n",
        "    #then arr[] = L[] else arr[] = R[] \n",
        "    \n",
        "    #Time Complexcity will remain O(n) but we dont have to create a seperate sorted array\n",
        "    #we will sort the given array by replacing its value with left and right sub array\n",
        "    #depending on their values if greater or lesser\n",
        "    #By doing this we will use less space then the code in the lab \n",
        "\n",
        "    while i < len(left) and j < len(right):\n",
        "      if left[i] < right[j]:\n",
        "        arr[k] = left[i]\n",
        "        i += 1\n",
        "      else:\n",
        "        arr[k] = right[j]\n",
        "        j += 1\n",
        "      k += 1\n",
        "    \n",
        "\n",
        "    # Checking if any element was left\n",
        "    while i < len(left):\n",
        "      arr[k] = left[i]\n",
        "      i += 1\n",
        "      k += 1\n",
        "    \n",
        "    while j < len(right):\n",
        "      arr[k] = right[j]\n",
        "      j += 1\n",
        "      k += 1 \n",
        "\n",
        "    \n",
        "\n",
        "    \n",
        "\n",
        "def printList(arr):\n",
        "  for i in range(len(arr)):\n",
        "    print(arr[i], end=\" \")\n",
        "  print(\"\\n\")\n",
        "  \n",
        "\n",
        "arraytosort = input(\"Enter any Numbers (Seperated by Commas): \").split(\",\")\n",
        "\n",
        "print(\"Given array is\", end=\"\\n\")\n",
        "printList(arraytosort)\n",
        "mergeSort(arraytosort)\n",
        "print(\"Sorted array is: \", end=\"\\n\")\n",
        "printList(arraytosort)"
      ]
    }
  ]
}